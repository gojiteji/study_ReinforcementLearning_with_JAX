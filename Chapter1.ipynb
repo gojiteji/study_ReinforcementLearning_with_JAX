{
  "cells": [
    {
      "cell_type": "markdown",
      "metadata": {
        "id": "view-in-github",
        "colab_type": "text"
      },
      "source": [
        "<a href=\"https://colab.research.google.com/github/gojiteji/study_ReinforcementLearning_with_JAX/blob/main/Chapter1.ipynb\" target=\"_parent\"><img src=\"https://colab.research.google.com/assets/colab-badge.svg\" alt=\"Open In Colab\"/></a>"
      ]
    },
    {
      "cell_type": "code",
      "execution_count": 43,
      "metadata": {
        "id": "lIYdn1woOS1n"
      },
      "outputs": [],
      "source": [
        "import jax\n",
        "import jax.numpy as jnp"
      ]
    },
    {
      "cell_type": "code",
      "source": [
        "from jax import random\n",
        "key = random.PRNGKey(0)  # Random seed is explicit in JAX\n",
        "randoms = random.uniform(key, shape=(11,))"
      ],
      "metadata": {
        "id": "K2Bh8du46-68"
      },
      "execution_count": 13,
      "outputs": []
    },
    {
      "cell_type": "code",
      "source": [
        "rewards = []\n",
        "Q=0\n",
        "for i in range(1,11):\n",
        "  Q = Q + (randoms[i] - Q)/i\n",
        "  print(Q)"
      ],
      "metadata": {
        "colab": {
          "base_uri": "https://localhost:8080/"
        },
        "id": "aTuK5MaqBQFw",
        "outputId": "bf78a0ca-b5bf-462e-af56-55cb1c576d53"
      },
      "execution_count": 15,
      "outputs": [
        {
          "output_type": "stream",
          "name": "stdout",
          "text": [
            "0.13573384\n",
            "0.40354812\n",
            "0.51077765\n",
            "0.46997517\n",
            "0.44336867\n",
            "0.48235852\n",
            "0.41620627\n",
            "0.41607106\n",
            "0.3877441\n",
            "0.37382877\n"
          ]
        }
      ]
    },
    {
      "cell_type": "code",
      "source": [
        "rewards = []\n",
        "Q=0\n",
        "for i in range(1,11):\n",
        "  Q += (randoms[i] - Q)/i\n",
        "  print(Q)"
      ],
      "metadata": {
        "colab": {
          "base_uri": "https://localhost:8080/"
        },
        "id": "xIjkIgjkBqx4",
        "outputId": "49d93cba-c3b4-4318-fd37-df451e090138"
      },
      "execution_count": 16,
      "outputs": [
        {
          "output_type": "stream",
          "name": "stdout",
          "text": [
            "0.13573384\n",
            "0.40354812\n",
            "0.51077765\n",
            "0.46997517\n",
            "0.44336867\n",
            "0.48235852\n",
            "0.41620627\n",
            "0.41607106\n",
            "0.3877441\n",
            "0.37382877\n"
          ]
        }
      ]
    },
    {
      "cell_type": "code",
      "source": [
        "import time\n",
        "class Bandit:\n",
        "  def __init__(self,arms=10):\n",
        "    key = random.PRNGKey(0)\n",
        "    self.rates = random.uniform(key, shape=(arms,1))# defalt win rate\n",
        "  def play(self, arm):\n",
        "    rate = self.rates[arm]\n",
        "    key = random.PRNGKey(int(time.time()*1000))\n",
        "    if rate > random.uniform(key, shape=(1,1)):# is it larger than win rate?\n",
        "      return 1\n",
        "    else:\n",
        "      return 0"
      ],
      "metadata": {
        "id": "LjeXJgUODu6A"
      },
      "execution_count": 39,
      "outputs": []
    },
    {
      "cell_type": "code",
      "source": [
        "bandit = Bandit()\n",
        "for i in range(10):\n",
        "  print(bandit.play(0))"
      ],
      "metadata": {
        "colab": {
          "base_uri": "https://localhost:8080/"
        },
        "id": "egFvQ8e0ET2h",
        "outputId": "544958c9-8d68-4573-f129-af5e1d76f12d"
      },
      "execution_count": 40,
      "outputs": [
        {
          "output_type": "stream",
          "name": "stdout",
          "text": [
            "0\n",
            "1\n",
            "0\n",
            "1\n",
            "0\n",
            "1\n",
            "1\n",
            "0\n",
            "0\n",
            "0\n"
          ]
        }
      ]
    },
    {
      "cell_type": "code",
      "source": [
        "bandit = Bandit()\n",
        "Qs = jnp.zeros(10)#マシンごとに常態価値が存在\n",
        "ns = jnp.zeros(10)#マシンのプレイ回数"
      ],
      "metadata": {
        "id": "QwBPQTvuFfRv"
      },
      "execution_count": 44,
      "outputs": []
    },
    {
      "cell_type": "code",
      "source": [
        "for n in range(10):\n",
        "    key = random.PRNGKey(int(time.time()*1000))\n",
        "    action = random.randint(key,minval=0,maxval=10,shape=(1,))\n",
        "    reward = bandit.play(action)\n",
        "    ns = ns.at[action].set(ns[action]+1)\n",
        "    Qs = Qs.at[action].set(Qs[action] + (reward - Qs[action])/ns[action])\n",
        "    print(Qs)"
      ],
      "metadata": {
        "colab": {
          "base_uri": "https://localhost:8080/"
        },
        "id": "VsPsJXRaGGbI",
        "outputId": "b6091e55-9af0-4ec5-c9ec-982d70332255"
      },
      "execution_count": 65,
      "outputs": [
        {
          "output_type": "stream",
          "name": "stdout",
          "text": [
            "[0.  0.  0.  0.  0.  0.  0.5 0.  0.  0. ]\n",
            "[0.  0.  0.  0.  0.  0.  0.5 0.  0.  0. ]\n",
            "[0.  0.  0.  0.  0.  0.  0.5 0.  1.  0. ]\n",
            "[0.  0.  0.  0.  0.  0.  0.5 0.  1.  0. ]\n",
            "[0.  0.  0.  0.  0.  0.  0.5 0.  1.  0. ]\n",
            "[0.  0.  0.  0.  0.  0.  0.5 0.  1.  1. ]\n",
            "[0.  0.  0.  0.  1.  0.  0.5 0.  1.  1. ]\n",
            "[0.5 0.  0.  0.  1.  0.  0.5 0.  1.  1. ]\n",
            "[0.5       0.        0.        0.        1.        0.        0.3333333\n",
            " 0.        1.        1.       ]\n",
            "[0.5       0.        0.        0.        1.        0.        0.3333333\n",
            " 0.        1.        1.       ]\n"
          ]
        }
      ]
    },
    {
      "cell_type": "code",
      "source": [
        "class Agent:\n",
        "  def __init__(self,epsilon, action_size=10):\n",
        "    self.epsilon = epsilon\n",
        "    self.Qs = jnp.zeros(action_size)\n",
        "    self.ns = jnp.zeros(action_size)\n",
        "  def update(self, action, reward):\n",
        "    self.ns = self.ns.at[action].set(self.ns[action]+1)\n",
        "    self.Qs = self.Qs.at[action].set(self.Qs[action] + (reward - self.Qs[action])/self.ns[action])\n",
        "  def get_action(self):\n",
        "    key = random.PRNGKey(int(time.time()*1000))\n",
        "    rnd = random.uniform(key, shape=(1,1))\n",
        "    if rnd < self.epsilon:\n",
        "      return random.randint(key,minval=0,maxval=len(self.Qs),shape=(1,))#ランダムにarmを選択する\n",
        "    return jnp.argmax(self.Qs)#いちばん平均の良いarmを選択する"
      ],
      "metadata": {
        "id": "eJ-___qUG08s"
      },
      "execution_count": 71,
      "outputs": []
    },
    {
      "cell_type": "code",
      "source": [
        "import matplotlib.pyplot as plt\n",
        "\n",
        "steps = 1000\n",
        "epsilon = 0.1\n",
        "\n",
        "bandit = Bandit()\n",
        "agent = Agent(epsilon)\n",
        "total_reward = 0.\n",
        "total_rewards = []\n",
        "rates = []\n",
        "\n",
        "for step in range(steps):\n",
        "  action = agent.get_action()#actionを先に行う\n",
        "  reward = bandit.play(action)#rewardが帰ってくる\n",
        "  agent.update(action, reward)\n",
        "  total_reward += reward\n",
        "\n",
        "  total_rewards.append(total_reward)\n",
        "  rates.append(total_reward / (step + 1))\n",
        "print(total_reward)\n"
      ],
      "metadata": {
        "colab": {
          "base_uri": "https://localhost:8080/"
        },
        "id": "NcRHW36kJ0Ns",
        "outputId": "0661437d-0451-47a2-abb1-e0b0f0466bf0"
      },
      "execution_count": 81,
      "outputs": [
        {
          "output_type": "stream",
          "name": "stdout",
          "text": [
            "722.0\n"
          ]
        }
      ]
    },
    {
      "cell_type": "code",
      "source": [
        "# グラフの描画(1)\n",
        "plt.ylabel('Total reward')\n",
        "plt.xlabel('Steps')\n",
        "plt.plot(total_rewards)\n",
        "plt.show()\n",
        "# グラフの描画(2)\n",
        "plt.ylabel('Rates')\n",
        "plt.xlabel('Steps')\n",
        "plt.plot(rates)\n",
        "plt.show()\n"
      ],
      "metadata": {
        "colab": {
          "base_uri": "https://localhost:8080/",
          "height": 541
        },
        "id": "tW-Anm5sLQHB",
        "outputId": "907c8f0e-546d-4b70-850c-b2950a63801e"
      },
      "execution_count": 82,
      "outputs": [
        {
          "output_type": "display_data",
          "data": {
            "text/plain": [
              "<Figure size 432x288 with 1 Axes>"
            ],
            "image/png": "[encoded data removed]"
          },
          "metadata": {
            "needs_background": "light"
          }
        },
        {
          "output_type": "display_data",
          "data": {
            "text/plain": [
              "<Figure size 432x288 with 1 Axes>"
            ],
            "image/png": "[encoded data removed]"
          },
          "metadata": {
            "needs_background": "light"
          }
        }
      ]
    },
    {
      "cell_type": "code",
      "source": [
        "steps = 1000\n",
        "epsilon = 0.1\n",
        "runs=20\n",
        "\n",
        "\n",
        "agent = Agent(epsilon)\n",
        "total_rewards = []\n",
        "all_rates = jnp.zeros((runs,steps))\n",
        "from tqdm import tqdm\n",
        "for run in tqdm(range(runs)):\n",
        "\n",
        "  rates=[]\n",
        "  agent = Agent(epsilon)\n",
        "  total_reward = 0.\n",
        "  for step in range(steps):\n",
        "    action = agent.get_action()#actionを先に行う\n",
        "    reward = bandit.play(action)#rewardが帰ってくる\n",
        "    agent.update(action, reward)\n",
        "    total_reward += reward\n",
        "    rates.append(total_reward / (step + 1))\n",
        "\n",
        "  all_rates = all_rates.at[run].set(rates)\n",
        "\n",
        "avg_rates = jnp.average(all_rates,axis=0)    \n",
        "# グラフの描画 "
      ],
      "metadata": {
        "colab": {
          "base_uri": "https://localhost:8080/"
        },
        "id": "rsJKW_yAL230",
        "outputId": "eb54945a-9f9f-455f-cb6e-df0b7ca7b775"
      },
      "execution_count": 89,
      "outputs": [
        {
          "output_type": "stream",
          "name": "stderr",
          "text": [
            "100%|██████████| 20/20 [03:56<00:00, 11.80s/it]\n"
          ]
        }
      ]
    },
    {
      "cell_type": "code",
      "source": [
        "plt.ylabel('Rates')\n",
        "plt.xlabel('Steps')\n",
        "plt.plot(avg_rates)\n",
        "plt.show()"
      ],
      "metadata": {
        "colab": {
          "base_uri": "https://localhost:8080/",
          "height": 279
        },
        "id": "gG9_So9CYABr",
        "outputId": "10f4f2ce-0a47-4dea-be2f-deeb93598f8a"
      },
      "execution_count": 90,
      "outputs": [
        {
          "output_type": "display_data",
          "data": {
            "text/plain": [
              "<Figure size 432x288 with 1 Axes>"
            ],
            "image/png": "[encoded data removed]"
          },
          "metadata": {
            "needs_background": "light"
          }
        }
      ]
    }
  ],
  "metadata": {
    "colab": {
      "provenance": [],
      "include_colab_link": true
    },
    "kernelspec": {
      "display_name": "Python 3",
      "name": "python3"
    }
  },
  "nbformat": 4,
  "nbformat_minor": 0
}