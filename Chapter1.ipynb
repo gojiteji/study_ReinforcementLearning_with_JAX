{
  "cells": [
    {
      "cell_type": "markdown",
      "metadata": {
        "id": "view-in-github",
        "colab_type": "text"
      },
      "source": [
        "<a href=\"https://colab.research.google.com/github/gojiteji/study_ReinforcementLearning_with_JAX/blob/main/Chapter1.ipynb\" target=\"_parent\"><img src=\"https://colab.research.google.com/assets/colab-badge.svg\" alt=\"Open In Colab\"/></a>"
      ]
    },
    {
      "cell_type": "code",
      "execution_count": null,
      "metadata": {
        "id": "lIYdn1woOS1n"
      },
      "outputs": [],
      "source": [
        "import jax\n",
        "import jax.numpy as jnp"
      ]
    },
    {
      "cell_type": "code",
      "source": [
        "from jax import random\n",
        "key = random.PRNGKey(0)  # Random seed is explicit in JAX\n",
        "randoms = random.uniform(key, shape=(11,))"
      ],
      "metadata": {
        "id": "K2Bh8du46-68"
      },
      "execution_count": 13,
      "outputs": []
    },
    {
      "cell_type": "code",
      "source": [
        "rewards = []\n",
        "Q=0\n",
        "for i in range(1,11):\n",
        "  Q = Q + (randoms[i] - Q)/i\n",
        "  print(Q)"
      ],
      "metadata": {
        "colab": {
          "base_uri": "https://localhost:8080/"
        },
        "id": "aTuK5MaqBQFw",
        "outputId": "bf78a0ca-b5bf-462e-af56-55cb1c576d53"
      },
      "execution_count": 15,
      "outputs": [
        {
          "output_type": "stream",
          "name": "stdout",
          "text": [
            "0.13573384\n",
            "0.40354812\n",
            "0.51077765\n",
            "0.46997517\n",
            "0.44336867\n",
            "0.48235852\n",
            "0.41620627\n",
            "0.41607106\n",
            "0.3877441\n",
            "0.37382877\n"
          ]
        }
      ]
    },
    {
      "cell_type": "code",
      "source": [
        "rewards = []\n",
        "Q=0\n",
        "for i in range(1,11):\n",
        "  Q += (randoms[i] - Q)/i\n",
        "  print(Q)"
      ],
      "metadata": {
        "colab": {
          "base_uri": "https://localhost:8080/"
        },
        "id": "xIjkIgjkBqx4",
        "outputId": "49d93cba-c3b4-4318-fd37-df451e090138"
      },
      "execution_count": 16,
      "outputs": [
        {
          "output_type": "stream",
          "name": "stdout",
          "text": [
            "0.13573384\n",
            "0.40354812\n",
            "0.51077765\n",
            "0.46997517\n",
            "0.44336867\n",
            "0.48235852\n",
            "0.41620627\n",
            "0.41607106\n",
            "0.3877441\n",
            "0.37382877\n"
          ]
        }
      ]
    },
    {
      "cell_type": "code",
      "source": [
        "import time\n",
        "class Bandit:\n",
        "  def __init__(self,arms=10):\n",
        "    key = random.PRNGKey(0)\n",
        "    self.rates = random.uniform(key, shape=(arms,1))# defalt win rate\n",
        "  def play(self, arm):\n",
        "    rate = self.rates[arm]\n",
        "    key = random.PRNGKey(int(time.time()*1000))\n",
        "    if rate > random.uniform(key, shape=(1,1)):# is it larger than win rate?\n",
        "      return 1\n",
        "    else:\n",
        "      return 0"
      ],
      "metadata": {
        "id": "LjeXJgUODu6A"
      },
      "execution_count": 39,
      "outputs": []
    },
    {
      "cell_type": "code",
      "source": [
        "bandit = Bandit()\n",
        "for i in range(10):\n",
        "  print(bandit.play(0))"
      ],
      "metadata": {
        "colab": {
          "base_uri": "https://localhost:8080/"
        },
        "id": "egFvQ8e0ET2h",
        "outputId": "544958c9-8d68-4573-f129-af5e1d76f12d"
      },
      "execution_count": 40,
      "outputs": [
        {
          "output_type": "stream",
          "name": "stdout",
          "text": [
            "0\n",
            "1\n",
            "0\n",
            "1\n",
            "0\n",
            "1\n",
            "1\n",
            "0\n",
            "0\n",
            "0\n"
          ]
        }
      ]
    },
    {
      "cell_type": "code",
      "source": [],
      "metadata": {
        "id": "QwBPQTvuFfRv"
      },
      "execution_count": null,
      "outputs": []
    }
  ],
  "metadata": {
    "colab": {
      "provenance": [],
      "include_colab_link": true
    },
    "kernelspec": {
      "display_name": "Python 3",
      "name": "python3"
    }
  },
  "nbformat": 4,
  "nbformat_minor": 0
}