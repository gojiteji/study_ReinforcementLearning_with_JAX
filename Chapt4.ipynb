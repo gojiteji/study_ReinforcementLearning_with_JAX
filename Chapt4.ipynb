{
  "cells": [
    {
      "cell_type": "markdown",
      "metadata": {
        "id": "view-in-github",
        "colab_type": "text"
      },
      "source": [
        "<a href=\"https://colab.research.google.com/github/gojiteji/study_ReinforcementLearning_with_JAXandNumpy/blob/main/Chapt4.ipynb\" target=\"_parent\"><img src=\"https://colab.research.google.com/assets/colab-badge.svg\" alt=\"Open In Colab\"/></a>"
      ]
    },
    {
      "cell_type": "code",
      "source": [
        "V = {'L1': 0.0, 'L2': 0.0}\n",
        "new_V = V.copy() # Vのコピー\n",
        "for _ in range(100):\n",
        "  new_V['L1'] = 0.5 * (-1 + 0.9 * V['L1']) + 0.5 * (1 + 0.9 * V['L2'])\n",
        "  new_V['L2'] = 0.5 * (0 + 0.9 * V['L1']) + 0.5 * (-1 + 0.9 * V['L2'])\n",
        "  V = new_V.copy()\n",
        "  print(V)"
      ],
      "metadata": {
        "colab": {
          "base_uri": "https://localhost:8080/"
        },
        "id": "Ey04VjQyVGxx",
        "outputId": "45144d95-06aa-4240-eb9f-cb1b0f91f51d"
      },
      "execution_count": 5,
      "outputs": [
        {
          "output_type": "stream",
          "name": "stdout",
          "text": [
            "{'L1': 0.0, 'L2': -0.5}\n",
            "{'L1': -0.22499999999999998, 'L2': -0.725}\n",
            "{'L1': -0.42749999999999994, 'L2': -0.9274999999999999}\n",
            "{'L1': -0.6097499999999999, 'L2': -1.10975}\n",
            "{'L1': -0.7737750000000001, 'L2': -1.273775}\n",
            "{'L1': -0.9213975000000002, 'L2': -1.4213975}\n",
            "{'L1': -1.05425775, 'L2': -1.55425775}\n",
            "{'L1': -1.1738319750000001, 'L2': -1.6738319750000001}\n",
            "{'L1': -1.2814487775, 'L2': -1.7814487775}\n",
            "{'L1': -1.3783038997500001, 'L2': -1.8783038997500001}\n",
            "{'L1': -1.4654735097750002, 'L2': -1.965473509775}\n",
            "{'L1': -1.5439261587975002, 'L2': -2.0439261587975004}\n",
            "{'L1': -1.61453354291775, 'L2': -2.11453354291775}\n",
            "{'L1': -1.6780801886259753, 'L2': -2.1780801886259753}\n",
            "{'L1': -1.735272169763378, 'L2': -2.2352721697633777}\n",
            "{'L1': -1.7867449527870403, 'L2': -2.28674495278704}\n",
            "{'L1': -1.833070457508336, 'L2': -2.3330704575083363}\n",
            "{'L1': -1.8747634117575025, 'L2': -2.3747634117575025}\n",
            "{'L1': -1.9122870705817523, 'L2': -2.412287070581752}\n",
            "{'L1': -1.9460583635235769, 'L2': -2.446058363523577}\n",
            "{'L1': -1.9764525271712192, 'L2': -2.476452527171219}\n",
            "{'L1': -2.0038072744540973, 'L2': -2.5038072744540973}\n",
            "{'L1': -2.0284265470086877, 'L2': -2.5284265470086877}\n",
            "{'L1': -2.050583892307819, 'L2': -2.550583892307819}\n",
            "{'L1': -2.070525503077037, 'L2': -2.570525503077037}\n",
            "{'L1': -2.088472952769333, 'L2': -2.588472952769333}\n",
            "{'L1': -2.1046256574923996, 'L2': -2.6046256574923996}\n",
            "{'L1': -2.1191630917431596, 'L2': -2.6191630917431596}\n",
            "{'L1': -2.132246782568844, 'L2': -2.632246782568844}\n",
            "{'L1': -2.1440221043119596, 'L2': -2.6440221043119596}\n",
            "{'L1': -2.1546198938807635, 'L2': -2.6546198938807635}\n",
            "{'L1': -2.1641579044926873, 'L2': -2.6641579044926873}\n",
            "{'L1': -2.1727421140434187, 'L2': -2.6727421140434187}\n",
            "{'L1': -2.180467902639077, 'L2': -2.680467902639077}\n",
            "{'L1': -2.1874211123751692, 'L2': -2.6874211123751692}\n",
            "{'L1': -2.193679001137652, 'L2': -2.693679001137652}\n",
            "{'L1': -2.199311101023887, 'L2': -2.699311101023887}\n",
            "{'L1': -2.204379990921498, 'L2': -2.704379990921498}\n",
            "{'L1': -2.2089419918293483, 'L2': -2.7089419918293483}\n",
            "{'L1': -2.2130477926464134, 'L2': -2.7130477926464134}\n",
            "{'L1': -2.2167430133817723, 'L2': -2.7167430133817723}\n",
            "{'L1': -2.220068712043595, 'L2': -2.720068712043595}\n",
            "{'L1': -2.2230618408392355, 'L2': -2.7230618408392355}\n",
            "{'L1': -2.225755656755312, 'L2': -2.725755656755312}\n",
            "{'L1': -2.2281800910797807, 'L2': -2.7281800910797807}\n",
            "{'L1': -2.2303620819718026, 'L2': -2.7303620819718026}\n",
            "{'L1': -2.2323258737746223, 'L2': -2.7323258737746223}\n",
            "{'L1': -2.23409328639716, 'L2': -2.73409328639716}\n",
            "{'L1': -2.235683957757444, 'L2': -2.735683957757444}\n",
            "{'L1': -2.2371155619816996, 'L2': -2.7371155619816996}\n",
            "{'L1': -2.2384040057835297, 'L2': -2.7384040057835297}\n",
            "{'L1': -2.239563605205177, 'L2': -2.739563605205177}\n",
            "{'L1': -2.2406072446846594, 'L2': -2.7406072446846594}\n",
            "{'L1': -2.2415465202161933, 'L2': -2.7415465202161933}\n",
            "{'L1': -2.242391868194574, 'L2': -2.742391868194574}\n",
            "{'L1': -2.2431526813751166, 'L2': -2.7431526813751166}\n",
            "{'L1': -2.243837413237605, 'L2': -2.743837413237605}\n",
            "{'L1': -2.2444536719138446, 'L2': -2.7444536719138446}\n",
            "{'L1': -2.24500830472246, 'L2': -2.74500830472246}\n",
            "{'L1': -2.245507474250214, 'L2': -2.745507474250214}\n",
            "{'L1': -2.2459567268251925, 'L2': -2.7459567268251925}\n",
            "{'L1': -2.2463610541426733, 'L2': -2.7463610541426733}\n",
            "{'L1': -2.246724948728406, 'L2': -2.746724948728406}\n",
            "{'L1': -2.2470524538555656, 'L2': -2.7470524538555656}\n",
            "{'L1': -2.2473472084700092, 'L2': -2.7473472084700092}\n",
            "{'L1': -2.2476124876230084, 'L2': -2.7476124876230084}\n",
            "{'L1': -2.2478512388607075, 'L2': -2.7478512388607075}\n",
            "{'L1': -2.2480661149746366, 'L2': -2.7480661149746366}\n",
            "{'L1': -2.248259503477173, 'L2': -2.748259503477173}\n",
            "{'L1': -2.2484335531294555, 'L2': -2.7484335531294555}\n",
            "{'L1': -2.24859019781651, 'L2': -2.74859019781651}\n",
            "{'L1': -2.248731178034859, 'L2': -2.748731178034859}\n",
            "{'L1': -2.248858060231373, 'L2': -2.748858060231373}\n",
            "{'L1': -2.248972254208236, 'L2': -2.748972254208236}\n",
            "{'L1': -2.2490750287874124, 'L2': -2.7490750287874124}\n",
            "{'L1': -2.249167525908671, 'L2': -2.749167525908671}\n",
            "{'L1': -2.2492507733178044, 'L2': -2.7492507733178044}\n",
            "{'L1': -2.249325695986024, 'L2': -2.749325695986024}\n",
            "{'L1': -2.249393126387422, 'L2': -2.749393126387422}\n",
            "{'L1': -2.24945381374868, 'L2': -2.74945381374868}\n",
            "{'L1': -2.249508432373812, 'L2': -2.749508432373812}\n",
            "{'L1': -2.2495575891364306, 'L2': -2.7495575891364306}\n",
            "{'L1': -2.2496018302227876, 'L2': -2.7496018302227876}\n",
            "{'L1': -2.2496416472005087, 'L2': -2.7496416472005087}\n",
            "{'L1': -2.249677482480458, 'L2': -2.749677482480458}\n",
            "{'L1': -2.249709734232412, 'L2': -2.749709734232412}\n",
            "{'L1': -2.249738760809171, 'L2': -2.749738760809171}\n",
            "{'L1': -2.249764884728254, 'L2': -2.749764884728254}\n",
            "{'L1': -2.249788396255429, 'L2': -2.749788396255429}\n",
            "{'L1': -2.249809556629886, 'L2': -2.749809556629886}\n",
            "{'L1': -2.2498286009668975, 'L2': -2.7498286009668975}\n",
            "{'L1': -2.249845740870208, 'L2': -2.749845740870208}\n",
            "{'L1': -2.2498611667831874, 'L2': -2.7498611667831874}\n",
            "{'L1': -2.249875050104869, 'L2': -2.749875050104869}\n",
            "{'L1': -2.2498875450943823, 'L2': -2.7498875450943823}\n",
            "{'L1': -2.249898790584944, 'L2': -2.749898790584944}\n",
            "{'L1': -2.24990891152645, 'L2': -2.74990891152645}\n",
            "{'L1': -2.249918020373805, 'L2': -2.749918020373805}\n",
            "{'L1': -2.249926218336425, 'L2': -2.749926218336425}\n",
            "{'L1': -2.2499335965027827, 'L2': -2.7499335965027827}\n"
          ]
        }
      ]
    },
    {
      "cell_type": "code",
      "source": [
        "V = {'L1': 0.0, 'L2': 0.0}\n",
        "new_V = V.copy()\n",
        "cnt = 0 # 何回更新したかを記録\n",
        "while True:\n",
        "    new_V['L1'] = 0.5 * (-1 + 0.9 * V['L1']) + 0.5 * (1 + 0.9 * V['L2'])\n",
        "    new_V['L2'] = 0.5 * (0 + 0.9 * V['L1']) + 0.5 * (-1 + 0.9 * V['L2'])\n",
        "    # 更新された量の最大値\n",
        "    delta = abs(new_V['L1'] - V['L1'])\n",
        "    delta = max(delta, abs(new_V['L2'] - V['L2']))\n",
        "    V = new_V.copy()\n",
        "    cnt += 1\n",
        "    if delta < 0.0001:\n",
        "      print(V)\n",
        "      print(cnt)\n",
        "      break"
      ],
      "metadata": {
        "colab": {
          "base_uri": "https://localhost:8080/"
        },
        "id": "2eymaCKNVZTH",
        "outputId": "f91e314d-4831-4ba0-a937-6e24bbaf4b9e"
      },
      "execution_count": 7,
      "outputs": [
        {
          "output_type": "stream",
          "name": "stdout",
          "text": [
            "{'L1': -2.249167525908671, 'L2': -2.749167525908671}\n",
            "76\n"
          ]
        }
      ]
    },
    {
      "cell_type": "code",
      "source": [
        "import numpy as np\n",
        "import matplotlib\n",
        "import matplotlib.pyplot as plt\n",
        "\n",
        "\n",
        "class Renderer:\n",
        "    def __init__(self, reward_map, goal_state, wall_state):\n",
        "        self.reward_map = reward_map\n",
        "        self.goal_state = goal_state\n",
        "        self.wall_state = wall_state\n",
        "        self.ys = len(self.reward_map)\n",
        "        self.xs = len(self.reward_map[0])\n",
        "\n",
        "        self.ax = None\n",
        "        self.fig = None\n",
        "        self.first_flg = True\n",
        "\n",
        "    def set_figure(self, figsize=None):\n",
        "        fig = plt.figure(figsize=figsize)\n",
        "        self.ax = fig.add_subplot(111)\n",
        "        ax = self.ax\n",
        "        ax.clear()\n",
        "        ax.tick_params(labelbottom=False, labelleft=False, labelright=False, labeltop=False)\n",
        "        ax.set_xticks(range(self.xs))\n",
        "        ax.set_yticks(range(self.ys))\n",
        "        ax.set_xlim(0, self.xs)\n",
        "        ax.set_ylim(0, self.ys)\n",
        "        ax.grid(True)\n",
        "\n",
        "    def render_v(self, v=None, policy=None, print_value=True):\n",
        "        self.set_figure()\n",
        "\n",
        "        ys, xs = self.ys, self.xs\n",
        "        ax = self.ax\n",
        "\n",
        "        if v is not None:\n",
        "            color_list = ['red', 'white', 'green']\n",
        "            cmap = matplotlib.colors.LinearSegmentedColormap.from_list(\n",
        "                'colormap_name', color_list)\n",
        "\n",
        "            # dict -> ndarray\n",
        "            v_dict = v\n",
        "            v = np.zeros(self.reward_map.shape)\n",
        "            for state, value in v_dict.items():\n",
        "                v[state] = value\n",
        "\n",
        "            vmax, vmin = v.max(), v.min()\n",
        "            vmax = max(vmax, abs(vmin))\n",
        "            vmin = -1 * vmax\n",
        "            vmax = 1 if vmax < 1 else vmax\n",
        "            vmin = -1 if vmin > -1 else vmin\n",
        "\n",
        "            ax.pcolormesh(np.flipud(v), cmap=cmap, vmin=vmin, vmax=vmax)\n",
        "\n",
        "        for y in range(ys):\n",
        "            for x in range(xs):\n",
        "                state = (y, x)\n",
        "                r = self.reward_map[y, x]\n",
        "                if r != 0 and r is not None:\n",
        "                    txt = 'R ' + str(r)\n",
        "                    if state == self.goal_state:\n",
        "                        txt = txt + ' (GOAL)'\n",
        "                    ax.text(x+.1, ys-y-0.9, txt)\n",
        "\n",
        "                if (v is not None) and state != self.wall_state:\n",
        "                    if print_value:\n",
        "                        offsets = [(0.4, -0.15), (-0.15, -0.3)]\n",
        "                        key = 0\n",
        "                        if v.shape[0] > 7: key = 1\n",
        "                        offset = offsets[key]\n",
        "                        ax.text(x+offset[0], ys-y+offset[1], \"{:12.2f}\".format(v[y, x]))\n",
        "\n",
        "                if policy is not None and state != self.wall_state:\n",
        "                    actions = policy[state]\n",
        "                    max_actions = [kv[0] for kv in actions.items() if kv[1] == max(actions.values())]\n",
        "\n",
        "                    arrows = [\"↑\", \"↓\", \"←\", \"→\"]\n",
        "                    offsets = [(0, 0.1), (0, -0.1), (-0.1, 0), (0.1, 0)]\n",
        "                    for action in max_actions:\n",
        "                        arrow = arrows[action]\n",
        "                        offset = offsets[action]\n",
        "                        if state == self.goal_state:\n",
        "                            continue\n",
        "                        ax.text(x+0.45+offset[0], ys-y-0.5+offset[1], arrow)\n",
        "\n",
        "                if state == self.wall_state:\n",
        "                    ax.add_patch(plt.Rectangle((x,ys-y-1), 1, 1, fc=(0.4, 0.4, 0.4, 1.)))\n",
        "        plt.show()\n",
        "\n",
        "    def render_q(self, q, show_greedy_policy=True):\n",
        "        self.set_figure()\n",
        "\n",
        "        ys, xs = self.ys, self.xs\n",
        "        ax = self.ax\n",
        "        action_space = [0, 1, 2, 3]\n",
        "\n",
        "        qmax, qmin = max(q.values()), min(q.values())\n",
        "        qmax = max(qmax, abs(qmin))\n",
        "        qmin = -1 * qmax\n",
        "        qmax = 1 if qmax < 1 else qmax\n",
        "        qmin = -1 if qmin > -1 else qmin\n",
        "\n",
        "\n",
        "        color_list = ['red', 'white', 'green']\n",
        "        cmap = matplotlib.colors.LinearSegmentedColormap.from_list(\n",
        "            'colormap_name', color_list)\n",
        "\n",
        "        for y in range(ys):\n",
        "            for x in range(xs):\n",
        "                for action in action_space:\n",
        "                    state = (y, x)\n",
        "                    r = self.reward_map[y, x]\n",
        "                    if r != 0 and r is not None:\n",
        "                        txt = 'R ' + str(r)\n",
        "                        if state == self.goal_state:\n",
        "                            txt = txt + ' (GOAL)'\n",
        "                        ax.text(x+.05, ys-y-0.95, txt)\n",
        "\n",
        "                    if state == self.goal_state:\n",
        "                        continue\n",
        "\n",
        "                    tx, ty = x, ys-y-1\n",
        "\n",
        "                    action_map = {\n",
        "                        0: ((0.5+tx, 0.5+ty), (tx+1, ty+1), (tx, ty+1)),\n",
        "                        1: ((tx, ty), (tx+1, ty), (tx+0.5, ty+0.5)),\n",
        "                        2: ((tx, ty), (tx+0.5, ty+0.5), (tx, ty+1)),\n",
        "                        3: ((0.5+tx, 0.5+ty), (tx+1, ty), (tx+1, ty+1)),\n",
        "                    }\n",
        "                    offset_map = {\n",
        "                        0: (0.1, 0.8),\n",
        "                        1: (0.1, 0.1),\n",
        "                        2: (-0.2, 0.4),\n",
        "                        3: (0.4, 0.4),\n",
        "                    }\n",
        "                    if state == self.wall_state:\n",
        "                        ax.add_patch(plt.Rectangle((tx, ty), 1, 1, fc=(0.4, 0.4, 0.4, 1.)))\n",
        "                    elif state in self.goal_state:\n",
        "                        ax.add_patch(plt.Rectangle((tx, ty), 1, 1, fc=(0., 1., 0., 1.)))\n",
        "                    else:\n",
        "\n",
        "                        tq = q[(state, action)]\n",
        "                        color_scale = 0.5 + (tq / qmax) / 2  # normalize: 0.0-1.0\n",
        "\n",
        "                        poly = plt.Polygon(action_map[action],fc=cmap(color_scale))\n",
        "                        ax.add_patch(poly)\n",
        "\n",
        "                        offset= offset_map[action]\n",
        "                        ax.text(tx+offset[0], ty+offset[1], \"{:12.2f}\".format(tq))\n",
        "        plt.show()\n",
        "\n",
        "        if show_greedy_policy:\n",
        "            policy = {}\n",
        "            for y in range(self.ys):\n",
        "                for x in range(self.xs):\n",
        "                    state = (y, x)\n",
        "                    qs = [q[state, action] for action in range(4)]  # action_size\n",
        "                    max_action = np.argmax(qs)\n",
        "                    probs = {0:0.0, 1:0.0, 2:0.0, 3:0.0}\n",
        "                    probs[max_action] = 1\n",
        "                    policy[state] = probs\n",
        "            self.render_v(None, policy)"
      ],
      "metadata": {
        "id": "9gl21isudBwH"
      },
      "execution_count": 47,
      "outputs": []
    },
    {
      "cell_type": "code",
      "execution_count": 56,
      "metadata": {
        "id": "lIYdn1woOS1n"
      },
      "outputs": [],
      "source": [
        "import numpy as np\n",
        "class GridWorld:\n",
        "  def __init__(self):\n",
        "    self.action_space = [0, 1, 2, 3]\n",
        "    self.action_meaning = {\n",
        "        0: \"UP\",\n",
        "        1: \"DOWN\",\n",
        "        2: \"LEFT\",\n",
        "        3: \"RIGHT\",\n",
        "    }\n",
        "    self.reward_map = np.array(\n",
        "        [[0, 0, 0, 1.0],\n",
        "        [0, None, 0, -1.0],\n",
        "        [0, 0, 0, 0]] )\n",
        "    self.goal_state = (0, 3)\n",
        "    self.wall_state = (1, 1)\n",
        "    self.start_state = (2, 0)\n",
        "    self.agent_state = self.start_state\n",
        "  @property\n",
        "  def height(self):\n",
        "    return len(self.reward_map)\n",
        "  @property\n",
        "  def width(self):\n",
        "    return len(self.reward_map[0])\n",
        "  @property\n",
        "  def shape(self):\n",
        "    return self.reward_map.shape\n",
        "  def actions(self):\n",
        "    return self.action_space # [0, 1, 2, 3]\n",
        "  def states(self):\n",
        "    for h in range(self.height):\n",
        "      for w in range(self.width): yield (h, w)\n",
        "  def next_state(self, state, action):\n",
        "    # 1移動先の場所の計算\n",
        "    action_move_map = [(-1, 0), (1, 0), (0, -1), (0, 1)]\n",
        "    move = action_move_map[action]\n",
        "    next_state = (state[0] + move[0], state[1] + move[1])\n",
        "    ny, nx = next_state\n",
        "    # 2移動先がグリッドワールドの枠の外か、それとも移動先が壁か?\n",
        "    if nx < 0 or nx >= self.width or ny < 0 or ny >= self.height:#枠の外か\n",
        "      next_state = state\n",
        "    elif next_state == self.wall_state:#壁か\n",
        "      next_state = state\n",
        "    return next_state # 3次の状態を返す\n",
        "  def reward(self, state, action, next_state):\n",
        "     return self.reward_map[next_state]\n",
        "\n",
        "  def render_v(self, v=None, policy=None, print_value=True):\n",
        "      renderer = Renderer(self.reward_map, self.goal_state,\n",
        "                                        self.wall_state)\n",
        "      renderer.render_v(v, policy, print_value)\n",
        "  def render_q(self, q=None, print_value=True):\n",
        "      renderer = Renderer(self.reward_map, self.goal_state,\n",
        "                                        self.wall_state)\n",
        "      renderer.render_q(q, print_value)"
      ]
    },
    {
      "cell_type": "code",
      "source": [
        "env = GridWorld()\n",
        "# env.height() ではなく env.height として使用できる print(env.height) # 3\n",
        "print(env.width) # 4\n",
        "print(env.shape) # (3, 4)"
      ],
      "metadata": {
        "id": "ZJnzxkWISgDy",
        "colab": {
          "base_uri": "https://localhost:8080/"
        },
        "outputId": "fb748b55-bde5-4d7b-edd7-c742aafb12b9"
      },
      "execution_count": 57,
      "outputs": [
        {
          "output_type": "stream",
          "name": "stdout",
          "text": [
            "4\n",
            "(3, 4)\n"
          ]
        }
      ]
    },
    {
      "cell_type": "code",
      "source": [
        "for action in env.actions():\n",
        "  print(action)\n",
        "print('===')\n",
        "for state in env.states():\n",
        "  print(state)"
      ],
      "metadata": {
        "colab": {
          "base_uri": "https://localhost:8080/"
        },
        "id": "5w8KA75sayWe",
        "outputId": "1c4c4112-f319-4706-cc38-56482dc5ba6e"
      },
      "execution_count": 58,
      "outputs": [
        {
          "output_type": "stream",
          "name": "stdout",
          "text": [
            "0\n",
            "1\n",
            "2\n",
            "3\n",
            "===\n",
            "(0, 0)\n",
            "(0, 1)\n",
            "(0, 2)\n",
            "(0, 3)\n",
            "(1, 0)\n",
            "(1, 1)\n",
            "(1, 2)\n",
            "(1, 3)\n",
            "(2, 0)\n",
            "(2, 1)\n",
            "(2, 2)\n",
            "(2, 3)\n"
          ]
        }
      ]
    },
    {
      "cell_type": "code",
      "source": [
        "env = GridWorld()\n",
        "V = {}\n",
        "for state in env.states():\n",
        "  V[state] = np.random.randn() # ダミーの状態価値関数\n",
        "env.render_v(V)"
      ],
      "metadata": {
        "colab": {
          "base_uri": "https://localhost:8080/",
          "height": 252
        },
        "id": "T4ZtmbYXbBgg",
        "outputId": "28db1f07-3d0a-41c1-bd99-71567b306843"
      },
      "execution_count": 69,
      "outputs": [
        {
          "output_type": "display_data",
          "data": {
            "text/plain": [
              "<Figure size 432x288 with 1 Axes>"
            ],
            "image/png": "[encoded data removed]"
          },
          "metadata": {}
        }
      ]
    },
    {
      "cell_type": "code",
      "source": [
        "\n",
        "V = {}\n",
        "# ディクショナリの要素の初期化\n",
        "for state in env.states():\n",
        "  V[state] = 0\n",
        "\n",
        "state = (1, 2)\n",
        "print(V[state]) # 状態 (1,2) の価値関数を出力"
      ],
      "metadata": {
        "colab": {
          "base_uri": "https://localhost:8080/"
        },
        "id": "4B8qT-D2cReV",
        "outputId": "e14aaec8-3154-45c3-a351-b4b09f9178c9"
      },
      "execution_count": 70,
      "outputs": [
        {
          "output_type": "stream",
          "name": "stdout",
          "text": [
            "0\n"
          ]
        }
      ]
    },
    {
      "cell_type": "code",
      "source": [
        "from collections import defaultdict\n",
        "pi = defaultdict(lambda: {0: 0.25, 1: 0.25, 2: 0.25, 3: 0.25})\n",
        "state = (0, 1)\n",
        "print(pi[state]) # {0:0.25, 1:0.25, 2:0.25, 3:0.25}"
      ],
      "metadata": {
        "colab": {
          "base_uri": "https://localhost:8080/"
        },
        "id": "JFc5a9fSeYZn",
        "outputId": "33cb54ae-29c7-4c80-cb34-17d3e5b0a3dd"
      },
      "execution_count": 71,
      "outputs": [
        {
          "output_type": "stream",
          "name": "stdout",
          "text": [
            "{0: 0.25, 1: 0.25, 2: 0.25, 3: 0.25}\n"
          ]
        }
      ]
    },
    {
      "cell_type": "code",
      "source": [
        "def eval_onestep(pi, V, env, gamma=0.9):\n",
        "    for state in env.states():\n",
        "        if state == env.goal_state:\n",
        "            V[state] = 0\n",
        "            continue\n",
        "\n",
        "        action_probs = pi[state]\n",
        "        new_V = 0\n",
        "        for action, action_prob in action_probs.items():\n",
        "            next_state = env.next_state(state, action)\n",
        "            r = env.reward(state, action, next_state)\n",
        "            new_V += action_prob * (r + gamma * V[next_state])\n",
        "        V[state] = new_V\n",
        "    return V\n"
      ],
      "metadata": {
        "id": "jn8pkNd-efy0"
      },
      "execution_count": 72,
      "outputs": []
    },
    {
      "cell_type": "code",
      "source": [
        "def policy_eval(pi, V, env, gamma, threshold=0.0000001):\n",
        "    while True:\n",
        "        old_V = V.copy()\n",
        "        V = eval_onestep(pi, V, env, gamma)\n",
        "\n",
        "        delta = 0\n",
        "        for state in V.keys():\n",
        "            t = abs(V[state] - old_V[state])\n",
        "            if delta < t:\n",
        "                delta = t\n",
        "\n",
        "        if delta < threshold:\n",
        "            break\n",
        "    return "
      ],
      "metadata": {
        "id": "Usny3ZsbfUjN"
      },
      "execution_count": 79,
      "outputs": []
    },
    {
      "cell_type": "code",
      "source": [
        "env = GridWorld()\n",
        "gamma = 0.9\n",
        "pi = defaultdict(lambda: {0: 0.25, 1: 0.25, 2: 0.25, 3: 0.25})\n",
        "V = defaultdict(lambda: 0)\n",
        "V = policy_eval(pi, V, env, gamma)\n",
        "env.render_v(V, pi)"
      ],
      "metadata": {
        "colab": {
          "base_uri": "https://localhost:8080/",
          "height": 252
        },
        "id": "EqHFB1MrhTzs",
        "outputId": "b580f525-1a45-4b94-8ef7-a9d3a54ee6c2"
      },
      "execution_count": 80,
      "outputs": [
        {
          "output_type": "display_data",
          "data": {
            "text/plain": [
              "<Figure size 432x288 with 1 Axes>"
            ],
            "image/png": "[encoded data removed]"
          },
          "metadata": {}
        }
      ]
    },
    {
      "cell_type": "code",
      "source": [
        "def argmax(d):\n",
        "  max_value = max(d.values())\n",
        "  max_key = 0\n",
        "  for key, value in d.items():\n",
        "    if value == max_value: max_key = key\n",
        "  return max_key"
      ],
      "metadata": {
        "id": "X2DLgxLphT5W"
      },
      "execution_count": 90,
      "outputs": []
    },
    {
      "cell_type": "code",
      "source": [
        "if '__file__' in globals():\n",
        "    import os, sys\n",
        "    sys.path.append(os.path.join(os.path.dirname(__file__), '..'))\n",
        "from collections import defaultdict\n",
        "\n",
        "\n",
        "\n",
        "def argmax(d):\n",
        "    \"\"\"d (dict)\"\"\"\n",
        "    max_value = max(d.values())\n",
        "    max_key = -1\n",
        "    for key, value in d.items():\n",
        "        if value == max_value:\n",
        "            max_key = key\n",
        "    return max_key\n",
        "\n",
        "\n",
        "def greedy_policy(V, env, gamma):\n",
        "    pi = {}\n",
        "\n",
        "    for state in env.states():\n",
        "        action_values = {}\n",
        "\n",
        "        for action in env.actions():\n",
        "            next_state = env.next_state(state, action)\n",
        "            r = env.reward(state, action, next_state)\n",
        "            value = r + gamma * V[next_state]\n",
        "            action_values[action] = value\n",
        "\n",
        "        max_action = argmax(action_values)\n",
        "        action_probs = {0: 0, 1: 0, 2: 0, 3: 0}\n",
        "        action_probs[max_action] = 1.0\n",
        "        pi[state] = action_probs\n",
        "    return pi\n",
        "\n",
        "\n",
        "def policy_iter(env, gamma, threshold=0.001, is_render=True):\n",
        "    pi = defaultdict(lambda: {0: 0.25, 1: 0.25, 2: 0.25, 3: 0.25})\n",
        "    V = defaultdict(lambda: 0)\n",
        "\n",
        "    while True:\n",
        "        V = policy_eval(pi, V, env, gamma, threshold)\n",
        "        new_pi = greedy_policy(V, env, gamma)\n",
        "\n",
        "        if is_render:\n",
        "            env.render_v(V, pi)\n",
        "\n",
        "        if new_pi == pi:\n",
        "            break\n",
        "        pi = new_pi\n",
        "\n",
        "    return pi\n",
        "\n",
        "\n",
        "if __name__ == '__main__':\n",
        "    env = GridWorld()\n",
        "    gamma = 0.9\n",
        "    pi = policy_iter(env, gamma)\n"
      ],
      "metadata": {
        "colab": {
          "base_uri": "https://localhost:8080/",
          "height": 353
        },
        "id": "RT7phty_ieJc",
        "outputId": "6901617e-cc73-40cf-a19b-cc1ef1fb7d0f"
      },
      "execution_count": 92,
      "outputs": [
        {
          "output_type": "error",
          "ename": "TypeError",
          "evalue": "ignored",
          "traceback": [
            "\u001b[0;31m---------------------------------------------------------------------------\u001b[0m",
            "\u001b[0;31mTypeError\u001b[0m                                 Traceback (most recent call last)",
            "\u001b[0;32m<ipython-input-92-45778dc4fb89>\u001b[0m in \u001b[0;36m<module>\u001b[0;34m\u001b[0m\n\u001b[1;32m     56\u001b[0m     \u001b[0menv\u001b[0m \u001b[0;34m=\u001b[0m \u001b[0mGridWorld\u001b[0m\u001b[0;34m(\u001b[0m\u001b[0;34m)\u001b[0m\u001b[0;34m\u001b[0m\u001b[0;34m\u001b[0m\u001b[0m\n\u001b[1;32m     57\u001b[0m     \u001b[0mgamma\u001b[0m \u001b[0;34m=\u001b[0m \u001b[0;36m0.9\u001b[0m\u001b[0;34m\u001b[0m\u001b[0;34m\u001b[0m\u001b[0m\n\u001b[0;32m---> 58\u001b[0;31m     \u001b[0mpi\u001b[0m \u001b[0;34m=\u001b[0m \u001b[0mpolicy_iter\u001b[0m\u001b[0;34m(\u001b[0m\u001b[0menv\u001b[0m\u001b[0;34m,\u001b[0m \u001b[0mgamma\u001b[0m\u001b[0;34m)\u001b[0m\u001b[0;34m\u001b[0m\u001b[0;34m\u001b[0m\u001b[0m\n\u001b[0m",
            "\u001b[0;32m<ipython-input-92-45778dc4fb89>\u001b[0m in \u001b[0;36mpolicy_iter\u001b[0;34m(env, gamma, threshold, is_render)\u001b[0m\n\u001b[1;32m     41\u001b[0m     \u001b[0;32mwhile\u001b[0m \u001b[0;32mTrue\u001b[0m\u001b[0;34m:\u001b[0m\u001b[0;34m\u001b[0m\u001b[0;34m\u001b[0m\u001b[0m\n\u001b[1;32m     42\u001b[0m         \u001b[0mV\u001b[0m \u001b[0;34m=\u001b[0m \u001b[0mpolicy_eval\u001b[0m\u001b[0;34m(\u001b[0m\u001b[0mpi\u001b[0m\u001b[0;34m,\u001b[0m \u001b[0mV\u001b[0m\u001b[0;34m,\u001b[0m \u001b[0menv\u001b[0m\u001b[0;34m,\u001b[0m \u001b[0mgamma\u001b[0m\u001b[0;34m,\u001b[0m \u001b[0mthreshold\u001b[0m\u001b[0;34m)\u001b[0m\u001b[0;34m\u001b[0m\u001b[0;34m\u001b[0m\u001b[0m\n\u001b[0;32m---> 43\u001b[0;31m         \u001b[0mnew_pi\u001b[0m \u001b[0;34m=\u001b[0m \u001b[0mgreedy_policy\u001b[0m\u001b[0;34m(\u001b[0m\u001b[0mV\u001b[0m\u001b[0;34m,\u001b[0m \u001b[0menv\u001b[0m\u001b[0;34m,\u001b[0m \u001b[0mgamma\u001b[0m\u001b[0;34m)\u001b[0m\u001b[0;34m\u001b[0m\u001b[0;34m\u001b[0m\u001b[0m\n\u001b[0m\u001b[1;32m     44\u001b[0m \u001b[0;34m\u001b[0m\u001b[0m\n\u001b[1;32m     45\u001b[0m         \u001b[0;32mif\u001b[0m \u001b[0mis_render\u001b[0m\u001b[0;34m:\u001b[0m\u001b[0;34m\u001b[0m\u001b[0;34m\u001b[0m\u001b[0m\n",
            "\u001b[0;32m<ipython-input-92-45778dc4fb89>\u001b[0m in \u001b[0;36mgreedy_policy\u001b[0;34m(V, env, gamma)\u001b[0m\n\u001b[1;32m     25\u001b[0m             \u001b[0mnext_state\u001b[0m \u001b[0;34m=\u001b[0m \u001b[0menv\u001b[0m\u001b[0;34m.\u001b[0m\u001b[0mnext_state\u001b[0m\u001b[0;34m(\u001b[0m\u001b[0mstate\u001b[0m\u001b[0;34m,\u001b[0m \u001b[0maction\u001b[0m\u001b[0;34m)\u001b[0m\u001b[0;34m\u001b[0m\u001b[0;34m\u001b[0m\u001b[0m\n\u001b[1;32m     26\u001b[0m             \u001b[0mr\u001b[0m \u001b[0;34m=\u001b[0m \u001b[0menv\u001b[0m\u001b[0;34m.\u001b[0m\u001b[0mreward\u001b[0m\u001b[0;34m(\u001b[0m\u001b[0mstate\u001b[0m\u001b[0;34m,\u001b[0m \u001b[0maction\u001b[0m\u001b[0;34m,\u001b[0m \u001b[0mnext_state\u001b[0m\u001b[0;34m)\u001b[0m\u001b[0;34m\u001b[0m\u001b[0;34m\u001b[0m\u001b[0m\n\u001b[0;32m---> 27\u001b[0;31m             \u001b[0mvalue\u001b[0m \u001b[0;34m=\u001b[0m \u001b[0mr\u001b[0m \u001b[0;34m+\u001b[0m \u001b[0mgamma\u001b[0m \u001b[0;34m*\u001b[0m \u001b[0mV\u001b[0m\u001b[0;34m[\u001b[0m\u001b[0mnext_state\u001b[0m\u001b[0;34m]\u001b[0m\u001b[0;34m\u001b[0m\u001b[0;34m\u001b[0m\u001b[0m\n\u001b[0m\u001b[1;32m     28\u001b[0m             \u001b[0maction_values\u001b[0m\u001b[0;34m[\u001b[0m\u001b[0maction\u001b[0m\u001b[0;34m]\u001b[0m \u001b[0;34m=\u001b[0m \u001b[0mvalue\u001b[0m\u001b[0;34m\u001b[0m\u001b[0;34m\u001b[0m\u001b[0m\n\u001b[1;32m     29\u001b[0m \u001b[0;34m\u001b[0m\u001b[0m\n",
            "\u001b[0;31mTypeError\u001b[0m: 'NoneType' object is not subscriptable"
          ]
        }
      ]
    },
    {
      "cell_type": "code",
      "source": [],
      "metadata": {
        "id": "GlgYyUKuihjO"
      },
      "execution_count": null,
      "outputs": []
    }
  ],
  "metadata": {
    "colab": {
      "provenance": [],
      "include_colab_link": true
    },
    "kernelspec": {
      "display_name": "Python 3",
      "name": "python3"
    }
  },
  "nbformat": 4,
  "nbformat_minor": 0
}